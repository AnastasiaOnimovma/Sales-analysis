{
 "cells": [
  {
   "cell_type": "code",
   "execution_count": 1,
   "metadata": {
    "id": "zTOmC4mFyaap"
   },
   "outputs": [],
   "source": [
    "import numpy as np\n",
    "import pandas as pd\n",
    "from matplotlib import pyplot as plt"
   ]
  },
  {
   "cell_type": "markdown",
   "metadata": {
    "id": "1l2LoaDw8rff"
   },
   "source": [
    "Подключаем датасет"
   ]
  },
  {
   "cell_type": "code",
   "execution_count": 2,
   "metadata": {
    "colab": {
     "base_uri": "https://localhost:8080/",
     "height": 206
    },
    "id": "Q1BS883XydOa",
    "outputId": "b8c5a33a-a691-4a25-9b85-62b2cd032144"
   },
   "outputs": [
    {
     "data": {
      "text/html": [
       "<div>\n",
       "<style scoped>\n",
       "    .dataframe tbody tr th:only-of-type {\n",
       "        vertical-align: middle;\n",
       "    }\n",
       "\n",
       "    .dataframe tbody tr th {\n",
       "        vertical-align: top;\n",
       "    }\n",
       "\n",
       "    .dataframe thead th {\n",
       "        text-align: right;\n",
       "    }\n",
       "</style>\n",
       "<table border=\"1\" class=\"dataframe\">\n",
       "  <thead>\n",
       "    <tr style=\"text-align: right;\">\n",
       "      <th></th>\n",
       "      <th>client_id</th>\n",
       "      <th>sum</th>\n",
       "      <th>status</th>\n",
       "      <th>sale</th>\n",
       "      <th>new/current</th>\n",
       "      <th>Unnamed: 5</th>\n",
       "      <th>document</th>\n",
       "      <th>receiving_date</th>\n",
       "    </tr>\n",
       "  </thead>\n",
       "  <tbody>\n",
       "    <tr>\n",
       "      <th>0</th>\n",
       "      <td>NaN</td>\n",
       "      <td>NaN</td>\n",
       "      <td>Май 2021</td>\n",
       "      <td>NaN</td>\n",
       "      <td>NaN</td>\n",
       "      <td>NaN</td>\n",
       "      <td>NaN</td>\n",
       "      <td>NaN</td>\n",
       "    </tr>\n",
       "    <tr>\n",
       "      <th>1</th>\n",
       "      <td>6.0</td>\n",
       "      <td>11693.7</td>\n",
       "      <td>ВНУТРЕННИЙ</td>\n",
       "      <td>-</td>\n",
       "      <td>-</td>\n",
       "      <td>NaN</td>\n",
       "      <td>-</td>\n",
       "      <td>-</td>\n",
       "    </tr>\n",
       "    <tr>\n",
       "      <th>2</th>\n",
       "      <td>14.0</td>\n",
       "      <td>5452.7</td>\n",
       "      <td>ОПЛАЧЕНО</td>\n",
       "      <td>Петрова</td>\n",
       "      <td>новая</td>\n",
       "      <td>NaN</td>\n",
       "      <td>оригинал</td>\n",
       "      <td>2021-07-26 00:00:00</td>\n",
       "    </tr>\n",
       "    <tr>\n",
       "      <th>3</th>\n",
       "      <td>15.0</td>\n",
       "      <td>13991.7</td>\n",
       "      <td>ОПЛАЧЕНО</td>\n",
       "      <td>Иванов</td>\n",
       "      <td>текущая</td>\n",
       "      <td>NaN</td>\n",
       "      <td>оригинал</td>\n",
       "      <td>2021-06-08 00:00:00</td>\n",
       "    </tr>\n",
       "    <tr>\n",
       "      <th>4</th>\n",
       "      <td>16.0</td>\n",
       "      <td>719.7</td>\n",
       "      <td>ОПЛАЧЕНО</td>\n",
       "      <td>Иванов</td>\n",
       "      <td>текущая</td>\n",
       "      <td>NaN</td>\n",
       "      <td>оригинал</td>\n",
       "      <td>2021-06-08 00:00:00</td>\n",
       "    </tr>\n",
       "  </tbody>\n",
       "</table>\n",
       "</div>"
      ],
      "text/plain": [
       "   client_id      sum      status     sale new/current  Unnamed: 5  document  \\\n",
       "0        NaN      NaN    Май 2021      NaN         NaN         NaN       NaN   \n",
       "1        6.0  11693.7  ВНУТРЕННИЙ        -           -         NaN         -   \n",
       "2       14.0   5452.7    ОПЛАЧЕНО  Петрова       новая         NaN  оригинал   \n",
       "3       15.0  13991.7    ОПЛАЧЕНО   Иванов     текущая         NaN  оригинал   \n",
       "4       16.0    719.7    ОПЛАЧЕНО   Иванов     текущая         NaN  оригинал   \n",
       "\n",
       "        receiving_date  \n",
       "0                  NaN  \n",
       "1                    -  \n",
       "2  2021-07-26 00:00:00  \n",
       "3  2021-06-08 00:00:00  \n",
       "4  2021-06-08 00:00:00  "
      ]
     },
     "execution_count": 2,
     "metadata": {},
     "output_type": "execute_result"
    }
   ],
   "source": [
    "df = pd.read_excel(\"data.xlsx\")\n",
    "df.head()"
   ]
  },
  {
   "cell_type": "markdown",
   "metadata": {
    "id": "uyvy7-1w8vpV"
   },
   "source": [
    "Смотрим на встречающиеся значения"
   ]
  },
  {
   "cell_type": "code",
   "execution_count": 3,
   "metadata": {
    "colab": {
     "base_uri": "https://localhost:8080/"
    },
    "id": "gK74Z_nmzpJp",
    "outputId": "f4cf4ba0-4a58-4464-e23a-553083164310"
   },
   "outputs": [
    {
     "name": "stdout",
     "output_type": "stream",
     "text": [
      "status:  ['Май 2021' 'ВНУТРЕННИЙ' 'ОПЛАЧЕНО' 'ПРОСРОЧЕНО' 'Июнь 2021' 'Июль 2021'\n",
      " 'Август 2021' 'В РАБОТЕ' 'Сентябрь 2021' 'Октябрь 2021' 'НА ПОДПИСАНИИ']\n",
      "sale:  [nan '-' 'Петрова' 'Иванов' 'Кузнецова' 'Андреев' 'Филимонова' 'Селиванов'\n",
      " 'Смирнов' 'Васильев' 'Соколов' 'Михайлов' 'Попов']\n",
      "new/current:  [nan '-' 'новая' 'текущая']\n",
      "document:  [nan '-' 'оригинал' 'НЕТ']\n"
     ]
    }
   ],
   "source": [
    "print(\"status: \", df['status'].unique())\n",
    "print(\"sale: \", df['sale'].unique())\n",
    "print(\"new/current: \", df['new/current'].unique())\n",
    "print(\"document: \", df['document'].unique())"
   ]
  },
  {
   "cell_type": "code",
   "execution_count": 4,
   "metadata": {
    "colab": {
     "base_uri": "https://localhost:8080/"
    },
    "id": "NYDgjVmb0kJz",
    "outputId": "649da776-6cbc-4997-857c-be3b91033987"
   },
   "outputs": [
    {
     "name": "stdout",
     "output_type": "stream",
     "text": [
      "<class 'pandas.core.frame.DataFrame'>\n",
      "RangeIndex: 730 entries, 0 to 729\n",
      "Data columns (total 8 columns):\n",
      " #   Column          Non-Null Count  Dtype  \n",
      "---  ------          --------------  -----  \n",
      " 0   client_id       724 non-null    float64\n",
      " 1   sum             724 non-null    float64\n",
      " 2   status          730 non-null    object \n",
      " 3   sale            724 non-null    object \n",
      " 4   new/current     724 non-null    object \n",
      " 5   Unnamed: 5      0 non-null      float64\n",
      " 6   document        709 non-null    object \n",
      " 7   receiving_date  607 non-null    object \n",
      "dtypes: float64(3), object(5)\n",
      "memory usage: 45.8+ KB\n"
     ]
    }
   ],
   "source": [
    "df.info()"
   ]
  },
  {
   "cell_type": "code",
   "execution_count": 5,
   "metadata": {
    "id": "Ex1SRIdg47vK"
   },
   "outputs": [],
   "source": [
    "df = df.drop(\"Unnamed: 5\", axis =1)"
   ]
  },
  {
   "cell_type": "markdown",
   "metadata": {
    "id": "h_dFh53Q82xI"
   },
   "source": [
    "Функция для разделения данных по месяцам"
   ]
  },
  {
   "cell_type": "code",
   "execution_count": 6,
   "metadata": {
    "id": "FGhvZUWg7k3J"
   },
   "outputs": [],
   "source": [
    "def split_data(df:pd.DataFrame) -> dict[str,pd.DataFrame]:\n",
    "  df_per_months = {}\n",
    "  months_indexes = df[df[\"status\"].str.contains(\"2021\")].index\n",
    "  months_indexes = list(months_indexes)\n",
    "  months_indexes.append(len(df))\n",
    "\n",
    "  for i, m_index in enumerate(months_indexes):\n",
    "    if m_index == len(df):\n",
    "      break\n",
    "    m_name = df[\"status\"].iloc[m_index]\n",
    "    cur_month_idx =  m_index + 1\n",
    "    next_month_idx = months_indexes[i+1]\n",
    "    df_per_months[m_name] = df[cur_month_idx:next_month_idx]\n",
    "  return df_per_months"
   ]
  },
  {
   "cell_type": "code",
   "execution_count": 7,
   "metadata": {
    "colab": {
     "base_uri": "https://localhost:8080/"
    },
    "id": "HD4feAAU1mOL",
    "outputId": "34ef54a6-34ff-4937-b82b-8237f7bafc1b"
   },
   "outputs": [
    {
     "data": {
      "text/plain": [
       "{'Май 2021':      client_id      sum      status        sale new/current  document  \\\n",
       " 1          6.0  11693.7  ВНУТРЕННИЙ           -           -         -   \n",
       " 2         14.0   5452.7    ОПЛАЧЕНО     Петрова       новая  оригинал   \n",
       " 3         15.0  13991.7    ОПЛАЧЕНО      Иванов     текущая  оригинал   \n",
       " 4         16.0    719.7    ОПЛАЧЕНО      Иванов     текущая  оригинал   \n",
       " 5         18.0   4253.7    ОПЛАЧЕНО      Иванов     текущая  оригинал   \n",
       " ..         ...      ...         ...         ...         ...       ...   \n",
       " 124      277.0   4623.7    ОПЛАЧЕНО  Филимонова     текущая  оригинал   \n",
       " 125      281.0   4488.7    ОПЛАЧЕНО   Селиванов       новая  оригинал   \n",
       " 126      284.0   8903.7  ПРОСРОЧЕНО  Филимонова     текущая  оригинал   \n",
       " 127      286.0   3453.7    ОПЛАЧЕНО  Филимонова     текущая  оригинал   \n",
       " 128      287.0   6368.7    ОПЛАЧЕНО  Филимонова     текущая  оригинал   \n",
       " \n",
       "           receiving_date  \n",
       " 1                      -  \n",
       " 2    2021-07-26 00:00:00  \n",
       " 3    2021-06-08 00:00:00  \n",
       " 4    2021-06-08 00:00:00  \n",
       " 5    2021-07-07 00:00:00  \n",
       " ..                   ...  \n",
       " 124  2021-07-14 00:00:00  \n",
       " 125  2021-07-16 00:00:00  \n",
       " 126  2021-07-27 00:00:00  \n",
       " 127  2021-05-31 00:00:00  \n",
       " 128  2021-06-29 00:00:00  \n",
       " \n",
       " [128 rows x 7 columns],\n",
       " 'Июнь 2021':      client_id      sum      status        sale new/current  document  \\\n",
       " 130      316.0  35653.7    ОПЛАЧЕНО     Петрова       новая  оригинал   \n",
       " 131       15.0  13518.7    ОПЛАЧЕНО      Иванов     текущая  оригинал   \n",
       " 132       16.0    985.3    ОПЛАЧЕНО      Иванов     текущая  оригинал   \n",
       " 133       18.0   2996.7    ОПЛАЧЕНО      Иванов     текущая  оригинал   \n",
       " 134       21.0   4233.7    ОПЛАЧЕНО   Кузнецова     текущая  оригинал   \n",
       " ..         ...      ...         ...         ...         ...       ...   \n",
       " 253      281.0   5733.7    ОПЛАЧЕНО   Селиванов     текущая  оригинал   \n",
       " 254      282.0    953.7    ОПЛАЧЕНО   Селиванов       новая  оригинал   \n",
       " 255      284.0   8823.7  ПРОСРОЧЕНО  Филимонова     текущая  оригинал   \n",
       " 256      286.0   3453.7    ОПЛАЧЕНО  Филимонова     текущая  оригинал   \n",
       " 257      287.0   6543.7    ОПЛАЧЕНО  Филимонова     текущая  оригинал   \n",
       " \n",
       "           receiving_date  \n",
       " 130  2021-08-09 00:00:00  \n",
       " 131  2021-07-09 00:00:00  \n",
       " 132  2021-07-09 00:00:00  \n",
       " 133  2021-09-09 00:00:00  \n",
       " 134  2021-09-17 00:00:00  \n",
       " ..                   ...  \n",
       " 253  2021-07-22 00:00:00  \n",
       " 254  2021-07-16 00:00:00  \n",
       " 255  2021-09-08 00:00:00  \n",
       " 256  2021-07-22 00:00:00  \n",
       " 257  2021-08-12 00:00:00  \n",
       " \n",
       " [128 rows x 7 columns],\n",
       " 'Июль 2021':      client_id      sum      status        sale new/current  document  \\\n",
       " 259       15.0  13838.7    ОПЛАЧЕНО      Иванов     текущая  оригинал   \n",
       " 260       16.0   1586.5    ОПЛАЧЕНО      Иванов     текущая  оригинал   \n",
       " 261       18.0   2996.7    ОПЛАЧЕНО      Иванов     текущая       НЕТ   \n",
       " 262       21.0   4313.7    ОПЛАЧЕНО   Кузнецова     текущая  оригинал   \n",
       " 263       24.0  19407.7    ОПЛАЧЕНО     Андреев     текущая  оригинал   \n",
       " ..         ...      ...         ...         ...         ...       ...   \n",
       " 364      277.0   4878.7    ОПЛАЧЕНО  Филимонова     текущая  оригинал   \n",
       " 365      281.0  11703.7    ОПЛАЧЕНО   Селиванов     текущая  оригинал   \n",
       " 366      284.0   1977.7  ПРОСРОЧЕНО  Филимонова     текущая       НЕТ   \n",
       " 367      286.0   4048.7    ОПЛАЧЕНО  Филимонова     текущая  оригинал   \n",
       " 368      287.0   6473.7    ОПЛАЧЕНО  Филимонова     текущая  оригинал   \n",
       " \n",
       "           receiving_date  \n",
       " 259  2021-08-09 00:00:00  \n",
       " 260  2021-08-09 00:00:00  \n",
       " 261                  NaN  \n",
       " 262  2021-09-17 00:00:00  \n",
       " 263  2021-08-19 00:00:00  \n",
       " ..                   ...  \n",
       " 364  2021-08-03 00:00:00  \n",
       " 365  2021-08-13 00:00:00  \n",
       " 366                  NaN  \n",
       " 367  2021-08-11 00:00:00  \n",
       " 368  2021-08-12 00:00:00  \n",
       " \n",
       " [110 rows x 7 columns],\n",
       " 'Август 2021':      client_id      sum    status        sale new/current  document  \\\n",
       " 370       15.0  13838.7  ОПЛАЧЕНО      Иванов     текущая  оригинал   \n",
       " 371       16.0   1845.7  ОПЛАЧЕНО      Иванов     текущая  оригинал   \n",
       " 372       21.0   4153.7  ОПЛАЧЕНО   Кузнецова     текущая  оригинал   \n",
       " 373       24.0  18052.7  ОПЛАЧЕНО     Андреев     текущая  оригинал   \n",
       " 374       30.0   3833.7  ОПЛАЧЕНО  Филимонова     текущая  оригинал   \n",
       " ..         ...      ...       ...         ...         ...       ...   \n",
       " 479      303.0  22413.7  ОПЛАЧЕНО     Андреев       новая  оригинал   \n",
       " 480      304.0   1783.7  ОПЛАЧЕНО     Андреев       новая  оригинал   \n",
       " 481      285.0   3423.7  ОПЛАЧЕНО    Васильев       новая  оригинал   \n",
       " 482      286.0   3678.7  ОПЛАЧЕНО  Филимонова     текущая  оригинал   \n",
       " 483      287.0   6518.7  ОПЛАЧЕНО  Филимонова     текущая  оригинал   \n",
       " \n",
       "           receiving_date  \n",
       " 370  2021-09-09 00:00:00  \n",
       " 371  2021-09-09 00:00:00  \n",
       " 372  2021-10-13 00:00:00  \n",
       " 373  2021-09-27 00:00:00  \n",
       " 374  2021-09-27 00:00:00  \n",
       " ..                   ...  \n",
       " 479  2021-09-10 00:00:00  \n",
       " 480  2021-09-10 00:00:00  \n",
       " 481  2021-09-02 00:00:00  \n",
       " 482  2021-09-21 00:00:00  \n",
       " 483  2021-09-07 00:00:00  \n",
       " \n",
       " [114 rows x 7 columns],\n",
       " 'Сентябрь 2021':      client_id      sum    status        sale new/current  document  \\\n",
       " 485       15.0  14288.7  ОПЛАЧЕНО      Иванов     текущая  оригинал   \n",
       " 486       16.0   1494.0  ОПЛАЧЕНО      Иванов     текущая  оригинал   \n",
       " 487       21.0    893.7  ОПЛАЧЕНО   Кузнецова     текущая  оригинал   \n",
       " 488       24.0  18142.7  ОПЛАЧЕНО     Андреев     текущая       NaN   \n",
       " 489       30.0   3833.7  В РАБОТЕ  Филимонова     текущая       NaN   \n",
       " ..         ...      ...       ...         ...         ...       ...   \n",
       " 589      304.0   1313.7  ОПЛАЧЕНО     Андреев     текущая  оригинал   \n",
       " 590      285.0   3453.7  ОПЛАЧЕНО    Васильев     текущая  оригинал   \n",
       " 591      285.0   4328.7  ОПЛАЧЕНО    Васильев       новая  оригинал   \n",
       " 592      286.0   4078.7  ОПЛАЧЕНО  Филимонова     текущая  оригинал   \n",
       " 593      287.0   6488.7  ОПЛАЧЕНО  Филимонова     текущая  оригинал   \n",
       " \n",
       "           receiving_date  \n",
       " 485  2021-10-08 00:00:00  \n",
       " 486  2021-10-08 00:00:00  \n",
       " 487  2021-10-20 00:00:00  \n",
       " 488  2021-10-15 00:00:00  \n",
       " 489                  NaN  \n",
       " ..                   ...  \n",
       " 589  2021-10-13 00:00:00  \n",
       " 590  2021-10-05 00:00:00  \n",
       " 591  2021-10-05 00:00:00  \n",
       " 592  2021-10-20 00:00:00  \n",
       " 593  2021-10-13 00:00:00  \n",
       " \n",
       " [109 rows x 7 columns],\n",
       " 'Октябрь 2021':      client_id      sum      status        sale new/current  document  \\\n",
       " 595       15.0  14591.7    В РАБОТЕ      Иванов     текущая  оригинал   \n",
       " 596       16.0   1291.7    В РАБОТЕ      Иванов     текущая  оригинал   \n",
       " 597      379.0   6063.7    В РАБОТЕ      Иванов       новая  оригинал   \n",
       " 598       24.0  18592.7    ОПЛАЧЕНО     Андреев     текущая  оригинал   \n",
       " 599       24.0   1453.7    ОПЛАЧЕНО     Андреев     текущая  оригинал   \n",
       " ..         ...      ...         ...         ...         ...       ...   \n",
       " 725      285.0   4328.7    ОПЛАЧЕНО    Васильев     текущая  оригинал   \n",
       " 726      360.0   3096.2    ОПЛАЧЕНО    Васильев       новая       НЕТ   \n",
       " 727      360.0   3096.2  ПРОСРОЧЕНО    Васильев       новая       НЕТ   \n",
       " 728      373.0   4403.7    ОПЛАЧЕНО    Михайлов       новая  оригинал   \n",
       " 729      286.0   3978.7    ОПЛАЧЕНО  Филимонова     текущая  оригинал   \n",
       " \n",
       "           receiving_date  \n",
       " 595  2021-11-11 00:00:00  \n",
       " 596  2021-11-11 00:00:00  \n",
       " 597  2021-11-11 00:00:00  \n",
       " 598  2021-11-12 00:00:00  \n",
       " 599  2021-11-12 00:00:00  \n",
       " ..                   ...  \n",
       " 725  2021-11-15 00:00:00  \n",
       " 726                  NaN  \n",
       " 727                  NaN  \n",
       " 728  2021-11-08 00:00:00  \n",
       " 729  2021-11-15 00:00:00  \n",
       " \n",
       " [135 rows x 7 columns]}"
      ]
     },
     "execution_count": 7,
     "metadata": {},
     "output_type": "execute_result"
    }
   ],
   "source": [
    "df_per_months = split_data(df)\n",
    "df_per_months"
   ]
  },
  {
   "cell_type": "code",
   "execution_count": 8,
   "metadata": {
    "colab": {
     "base_uri": "https://localhost:8080/"
    },
    "id": "D0Tm-Fk5DCux",
    "outputId": "2a70765d-ad47-42e2-f3bf-34f0226f3766"
   },
   "outputs": [
    {
     "data": {
      "text/plain": [
       "{'Май 2021': 5,\n",
       " 'Июнь 2021': 6,\n",
       " 'Июль 2021': 7,\n",
       " 'Август 2021': 8,\n",
       " 'Сентябрь 2021': 9,\n",
       " 'Октябрь 2021': 10}"
      ]
     },
     "execution_count": 8,
     "metadata": {},
     "output_type": "execute_result"
    }
   ],
   "source": [
    "keys = list(df_per_months.keys())\n",
    "months = {keys[i]:i+5 for i in range(len(keys))}\n",
    "months"
   ]
  },
  {
   "cell_type": "markdown",
   "metadata": {
    "id": "MM2YNTH48_o3"
   },
   "source": [
    "Функция для вычисления выручки за месяц"
   ]
  },
  {
   "cell_type": "code",
   "execution_count": 9,
   "metadata": {
    "id": "jvPfnZB3_MoH"
   },
   "outputs": [],
   "source": [
    "def month_income(df: pd.DataFrame) -> float:\n",
    "  month_df = df.copy()\n",
    "  month_df = month_df[month_df[\"status\"] != \"ПРОСРОЧЕНО\"]\n",
    "  return sum(month_df[\"sum\"])"
   ]
  },
  {
   "cell_type": "code",
   "execution_count": 10,
   "metadata": {
    "colab": {
     "base_uri": "https://localhost:8080/"
    },
    "id": "dI9Wv4nVAkux",
    "outputId": "5a2fb3e2-8624-4400-bc8b-24f7098e9735"
   },
   "outputs": [
    {
     "name": "stdout",
     "output_type": "stream",
     "text": [
      "Выручка за Июль 2021: 859896.47\n"
     ]
    }
   ],
   "source": [
    "print(\"Выручка за Июль 2021:\", round(month_income(df_per_months[\"Июль 2021\"]), 2))"
   ]
  },
  {
   "cell_type": "markdown",
   "metadata": {
    "id": "dSUgNMCn9xVy"
   },
   "source": [
    "Функция для построения графика выручки"
   ]
  },
  {
   "cell_type": "code",
   "execution_count": 11,
   "metadata": {
    "id": "8WkwQu1MqsF0"
   },
   "outputs": [],
   "source": [
    "def build_income_graph(df_per_months: pd.DataFrame) -> None:\n",
    "  data ={mon:df_per_months[mon].loc[(df_per_months[mon][\"status\"] != \"ПРОСРОЧЕНО\")] for mon in df_per_months}\n",
    "  sum_per_month = [sum(data[mon][\"sum\"]) for mon in data]\n",
    "\n",
    "  fig, ax = plt.subplots(figsize=(10, 10))\n",
    "  ax.set_title('Выручка по месяцам')\n",
    "  ax.bar(data.keys(),sum_per_month,color='pink')\n",
    "  plt.xticks(rotation=45)\n",
    "  plt.show()"
   ]
  },
  {
   "cell_type": "code",
   "execution_count": 12,
   "metadata": {
    "colab": {
     "base_uri": "https://localhost:8080/",
     "height": 926
    },
    "id": "xvOeIr3loUch",
    "outputId": "31b336ca-d0b3-4a0b-e868-b9ca9a38b13f"
   },
   "outputs": [
    {
     "data": {
      "image/png": "[encoded data removed]",
      "text/plain": [
       "<Figure size 1000x1000 with 1 Axes>"
      ]
     },
     "metadata": {},
     "output_type": "display_data"
    }
   ],
   "source": [
    "build_income_graph(df_per_months)"
   ]
  },
  {
   "cell_type": "markdown",
   "metadata": {
    "id": "MWMZbowvqJ87"
   },
   "source": [
    "Функция для расчёта выручки от каждого менеджера"
   ]
  },
  {
   "cell_type": "code",
   "execution_count": 13,
   "metadata": {
    "id": "DIjTnseApjPK"
   },
   "outputs": [],
   "source": [
    "def income_per_manager(df: pd.DataFrame) -> dict[str, float]:\n",
    "  month_df = df.copy()\n",
    "  month_df = month_df.loc[(month_df[\"status\"] != \"ПРОСРОЧЕНО\")]\n",
    "  man_income = {man:sum(month_df.loc[month_df[\"sale\"]== man][\"sum\"]) for man in month_df[\"sale\"].unique()}\n",
    "  return man_income"
   ]
  },
  {
   "cell_type": "code",
   "execution_count": 14,
   "metadata": {
    "colab": {
     "base_uri": "https://localhost:8080/"
    },
    "id": "gilg9xHlv9Wb",
    "outputId": "0d6b6388-946c-41f8-92e2-a5af0308d7ce"
   },
   "outputs": [
    {
     "name": "stdout",
     "output_type": "stream",
     "text": [
      "Самый успешный менеджер за сентябрь: Филимонова 59514.47\n"
     ]
    }
   ],
   "source": [
    "man_income = income_per_manager(df_per_months[\"Сентябрь 2021\"])\n",
    "print(\"Самый успешный менеджер за сентябрь:\",max(man_income),round(man_income[max(man_income)],2))"
   ]
  },
  {
   "cell_type": "markdown",
   "metadata": {
    "id": "BtnpD5R0-pq0"
   },
   "source": [
    "Функция для рачёта количесва новых и старых сделок в месяце"
   ]
  },
  {
   "cell_type": "code",
   "execution_count": 15,
   "metadata": {
    "id": "e_Lph6Cjy-zp"
   },
   "outputs": [],
   "source": [
    "def new_current_ratio(df: pd.DataFrame) -> dict[str, float]:\n",
    "  month_df = df.copy()\n",
    "  return {typ:len(month_df.loc[month_df[\"new/current\"] == typ]) for typ in month_df[\"new/current\"].unique()}"
   ]
  },
  {
   "cell_type": "code",
   "execution_count": 16,
   "metadata": {
    "colab": {
     "base_uri": "https://localhost:8080/",
     "height": 485
    },
    "id": "s0akxD2I0xE1",
    "outputId": "55f0db8a-d37b-4283-ac1c-1e4fdd1aeeca"
   },
   "outputs": [
    {
     "name": "stdout",
     "output_type": "stream",
     "text": [
      "Преобладающий тип сделок в октябре: текущая 99\n"
     ]
    },
    {
     "data": {
      "image/png": "[encoded data removed]",
      "text/plain": [
       "<Figure size 900x500 with 1 Axes>"
      ]
     },
     "metadata": {},
     "output_type": "display_data"
    }
   ],
   "source": [
    "new_cur_rat = new_current_ratio(df_per_months[\"Октябрь 2021\"])\n",
    "print(\"Преобладающий тип сделок в октябре:\", max(new_cur_rat),new_cur_rat[max(new_cur_rat)])\n",
    "\n",
    "fig, ax = plt.subplots(figsize=(9, 5))\n",
    "y_pos = np.arange(len(new_cur_rat))\n",
    "ax.barh(y_pos, [value for (key,value) in new_cur_rat.items()], align='center')\n",
    "ax.set_yticks(y_pos, labels=new_cur_rat.keys())\n",
    "ax.set_title('What type of deals (new/current) was prevalent in October 2021?')\n",
    "plt.show()"
   ]
  },
  {
   "cell_type": "markdown",
   "metadata": {
    "id": "SyRQMt7kBXMD"
   },
   "source": [
    "Функция для вычисления количества договоров по сделкам заданного, подписанных в заданном месяце"
   ]
  },
  {
   "cell_type": "code",
   "execution_count": 17,
   "metadata": {
    "id": "unB0BjWu1Z3a"
   },
   "outputs": [],
   "source": [
    "def get_doc_signed(df:pd.DataFrame, doc_month: int, transaction_month: str) ->pd.DataFrame:\n",
    "  month_df = df[transaction_month]\n",
    "  month_df = month_df[month_df[\"status\"] != \"ВНУТРЕННИЙ\"]\n",
    "  docs= month_df[pd.to_datetime(month_df[\"receiving_date\"]).dt.month==doc_month]\n",
    "  return docs"
   ]
  },
  {
   "cell_type": "code",
   "execution_count": 18,
   "metadata": {
    "colab": {
     "base_uri": "https://localhost:8080/"
    },
    "id": "8WnX5k4D3q3v",
    "outputId": "cdef4450-1c00-4a37-a10e-cc20093d1fd5"
   },
   "outputs": [
    {
     "name": "stdout",
     "output_type": "stream",
     "text": [
      "Количеcтво подписанных в июне договоров по майским сделкам: 77\n"
     ]
    }
   ],
   "source": [
    "print(\"Количеcтво подписанных в июне договоров по майским сделкам:\",len(get_doc_signed(df_per_months,months[\"Июнь 2021\"],\"Май 2021\")))"
   ]
  },
  {
   "cell_type": "markdown",
   "metadata": {
    "id": "JZS82MZsDwHW"
   },
   "source": [
    "Функция для вычисления остатков для каждого менеджера за месяц"
   ]
  },
  {
   "cell_type": "code",
   "execution_count": 19,
   "metadata": {
    "id": "t0gWHKylllgk"
   },
   "outputs": [],
   "source": [
    "def get_month_remains(df: pd.DataFrame, month: str,remains_per_month: dict[int,float]) ->dict[int,dict[str,float]]:\n",
    "  month_df = df.copy()\n",
    "  month_df = month_df[month_df[\"status\"] != \"ВНУТРЕННИЙ\"]\n",
    "  month_df = month_df[month_df[\"status\"] != \"ПРОСРОЧЕНО\"]\n",
    "  month_df = month_df[pd.to_datetime(month_df[\"receiving_date\"]).dt.month > months[month]]\n",
    "\n",
    "  for i, row in month_df.iterrows():\n",
    "    date = months[month]\n",
    "    sum = 0\n",
    "    if row[\"new/current\"] == \"новая\" and row[\"status\"] == \"ОПЛАЧЕНО\":\n",
    "      sum = row[\"sum\"] * 0.07\n",
    "    elif row[\"new/current\"] == \"текущая\" and row[\"sum\"] >= 10000:\n",
    "      sum = row[\"sum\"] * 0.05\n",
    "    elif row[\"new/current\"] == \"текущая\" and row[\"sum\"] < 10000:\n",
    "      sum = row[\"sum\"] * 0.03\n",
    "    manager = row[\"sale\"]\n",
    "    remains_per_month[date][manager] += sum\n",
    "  return remains_per_month"
   ]
  },
  {
   "cell_type": "markdown",
   "metadata": {
    "id": "4IRE-wIFEJYg"
   },
   "source": [
    "Функция для вычисления остатков для каждого менеджера за период"
   ]
  },
  {
   "cell_type": "code",
   "execution_count": 20,
   "metadata": {
    "id": "LKC_kRAy3DwO"
   },
   "outputs": [],
   "source": [
    "def get_period_remains_per_month(df_per_months: pd.DataFrame, managers:list[str]) ->dict[int,dict[str,float]]:\n",
    "  remains_per_month = {i:{m:0 for m in managers} for i in range(5,11)}\n",
    "  for month in df_per_months:\n",
    "    get_month_remains(df_per_months[month], month, remains_per_month)\n",
    "  return remains_per_month"
   ]
  },
  {
   "cell_type": "code",
   "execution_count": 21,
   "metadata": {
    "colab": {
     "base_uri": "https://localhost:8080/"
    },
    "id": "02nTzwgDpsZp",
    "outputId": "600d6027-562f-4e1c-9a2b-6ea3359e3e2a"
   },
   "outputs": [
    {
     "data": {
      "text/plain": [
       "{5: {'Петрова': 8895.080000000002,\n",
       "  'Иванов': 4194.918000000001,\n",
       "  'Кузнецова': 3674.137699999999,\n",
       "  'Андреев': 3548.7226999999993,\n",
       "  'Филимонова': 969.9404999999999,\n",
       "  'Селиванов': 2283.63,\n",
       "  'Смирнов': 6322.216,\n",
       "  'Васильев': 443.604,\n",
       "  'Соколов': 0,\n",
       "  'Михайлов': 0,\n",
       "  'Попов': 0},\n",
       " 6: {'Петрова': 8904.4694,\n",
       "  'Иванов': 4300.3730000000005,\n",
       "  'Кузнецова': 3427.4840000000004,\n",
       "  'Андреев': 3368.2397,\n",
       "  'Филимонова': 1654.0894,\n",
       "  'Селиванов': 3367.3820000000005,\n",
       "  'Смирнов': 5854.7390000000005,\n",
       "  'Васильев': 932.6759999999999,\n",
       "  'Соколов': 269.211,\n",
       "  'Михайлов': 0,\n",
       "  'Попов': 0},\n",
       " 7: {'Петрова': 5637.0374,\n",
       "  'Иванов': 6542.84,\n",
       "  'Кузнецова': 4352.744,\n",
       "  'Андреев': 5692.403100000001,\n",
       "  'Филимонова': 5070.617000000001,\n",
       "  'Селиванов': 1804.7670000000003,\n",
       "  'Смирнов': 7246.5470000000005,\n",
       "  'Васильев': 2559.887,\n",
       "  'Соколов': 668.8420000000001,\n",
       "  'Михайлов': 0,\n",
       "  'Попов': 0},\n",
       " 8: {'Петрова': 7304.112600000002,\n",
       "  'Иванов': 4136.077,\n",
       "  'Кузнецова': 2649.909,\n",
       "  'Андреев': 8772.7985,\n",
       "  'Филимонова': 1260.7625999999998,\n",
       "  'Селиванов': 0,\n",
       "  'Смирнов': 7395.197999999999,\n",
       "  'Васильев': 2139.753,\n",
       "  'Соколов': 1479.7900000000002,\n",
       "  'Михайлов': 0,\n",
       "  'Попов': 0},\n",
       " 9: {'Петрова': 3268.0868,\n",
       "  'Иванов': 4202.169,\n",
       "  'Кузнецова': 3017.0189999999993,\n",
       "  'Андреев': 5503.203000000001,\n",
       "  'Филимонова': 2172.7720000000004,\n",
       "  'Селиванов': 0,\n",
       "  'Смирнов': 7977.619,\n",
       "  'Васильев': 690.4784999999999,\n",
       "  'Соколов': 1055.5049999999999,\n",
       "  'Михайлов': 298.809,\n",
       "  'Попов': 0},\n",
       " 10: {'Петрова': 1302.429,\n",
       "  'Иванов': 1381.719,\n",
       "  'Кузнецова': 1592.1490000000001,\n",
       "  'Андреев': 3329.46,\n",
       "  'Филимонова': 221.47199999999998,\n",
       "  'Селиванов': 0,\n",
       "  'Смирнов': 1342.9460000000001,\n",
       "  'Васильев': 507.431,\n",
       "  'Соколов': 257.361,\n",
       "  'Михайлов': 308.259,\n",
       "  'Попов': 0}}"
      ]
     },
     "execution_count": 21,
     "metadata": {},
     "output_type": "execute_result"
    }
   ],
   "source": [
    "remains_per_month = get_period_remains_per_month(df_per_months, df['sale'].unique()[2:])\n",
    "remains_per_month"
   ]
  },
  {
   "cell_type": "code",
   "execution_count": 22,
   "metadata": {
    "colab": {
     "base_uri": "https://localhost:8080/"
    },
    "id": "CL0uh2qV4lxY",
    "outputId": "9cc87a27-0d72-470c-b51b-d3392c41d439"
   },
   "outputs": [
    {
     "name": "stdout",
     "output_type": "stream",
     "text": [
      "Остаток каждого из менеджеров на 01.07.2021\n",
      "Петрова 8904.4694\n",
      "Иванов 4300.3730000000005\n",
      "Кузнецова 3427.4840000000004\n",
      "Андреев 3368.2397\n",
      "Филимонова 1654.0894\n",
      "Селиванов 3367.3820000000005\n",
      "Смирнов 5854.7390000000005\n",
      "Васильев 932.6759999999999\n",
      "Соколов 269.211\n",
      "Михайлов 0\n",
      "Попов 0\n"
     ]
    }
   ],
   "source": [
    "print(\"Остаток каждого из менеджеров на 01.07.2021\")\n",
    "for name, remains in remains_per_month[6].items():\n",
    "    print(f'{name} {remains}')"
   ]
  }
 ],
 "metadata": {
  "colab": {
   "provenance": []
  },
  "kernelspec": {
   "display_name": "Python 3 (ipykernel)",
   "language": "python",
   "name": "python3"
  },
  "language_info": {
   "codemirror_mode": {
    "name": "ipython",
    "version": 3
   },
   "file_extension": ".py",
   "mimetype": "text/x-python",
   "name": "python",
   "nbconvert_exporter": "python",
   "pygments_lexer": "ipython3",
   "version": "3.11.0"
  }
 },
 "nbformat": 4,
 "nbformat_minor": 1
}
